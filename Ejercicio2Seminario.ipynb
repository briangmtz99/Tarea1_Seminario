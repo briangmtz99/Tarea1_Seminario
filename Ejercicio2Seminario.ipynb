{
  "nbformat": 4,
  "nbformat_minor": 0,
  "metadata": {
    "colab": {
      "name": "Ejercicio2Seminario.ipynb",
      "provenance": []
    },
    "kernelspec": {
      "name": "python3",
      "display_name": "Python 3"
    },
    "language_info": {
      "name": "python"
    }
  },
  "cells": [
    {
      "cell_type": "code",
      "metadata": {
        "id": "GZmtrOrzCzwW"
      },
      "source": [
        "import pandas as pd\n",
        "import numpy as np\n",
        "import os\n",
        "import csv\n",
        "from pylab import*\n",
        "import numpy as np\n",
        "import scipy.stats \n",
        "from scipy.special import gamma\n",
        "import seaborn as sns\n",
        "from scipy.stats import beta\n",
        "from scipy.stats import spearmanr\n"
      ],
      "execution_count": 4,
      "outputs": []
    },
    {
      "cell_type": "code",
      "metadata": {
        "colab": {
          "base_uri": "https://localhost:8080/",
          "height": 447
        },
        "id": "8k2Ss4aCC6gl",
        "outputId": "d6f08013-1b59-40cc-a33c-11285f5e442a"
      },
      "source": [
        "#Ejercicio 2 \n",
        "#Leemos nuestro archivo\n",
        "bd = \"data_schools.xlsx\"\n",
        "bd_escuelas=pd.read_excel(bd)\n",
        "bd_escuelas"
      ],
      "execution_count": 5,
      "outputs": [
        {
          "output_type": "execute_result",
          "data": {
            "text/html": [
              "<div>\n",
              "<style scoped>\n",
              "    .dataframe tbody tr th:only-of-type {\n",
              "        vertical-align: middle;\n",
              "    }\n",
              "\n",
              "    .dataframe tbody tr th {\n",
              "        vertical-align: top;\n",
              "    }\n",
              "\n",
              "    .dataframe thead th {\n",
              "        text-align: right;\n",
              "    }\n",
              "</style>\n",
              "<table border=\"1\" class=\"dataframe\">\n",
              "  <thead>\n",
              "    <tr style=\"text-align: right;\">\n",
              "      <th></th>\n",
              "      <th>escuela</th>\n",
              "      <th>LSAT</th>\n",
              "      <th>GPA</th>\n",
              "    </tr>\n",
              "  </thead>\n",
              "  <tbody>\n",
              "    <tr>\n",
              "      <th>0</th>\n",
              "      <td>1</td>\n",
              "      <td>622</td>\n",
              "      <td>3.23</td>\n",
              "    </tr>\n",
              "    <tr>\n",
              "      <th>1</th>\n",
              "      <td>2</td>\n",
              "      <td>542</td>\n",
              "      <td>2.83</td>\n",
              "    </tr>\n",
              "    <tr>\n",
              "      <th>2</th>\n",
              "      <td>3</td>\n",
              "      <td>579</td>\n",
              "      <td>3.24</td>\n",
              "    </tr>\n",
              "    <tr>\n",
              "      <th>3</th>\n",
              "      <td>4</td>\n",
              "      <td>653</td>\n",
              "      <td>3.12</td>\n",
              "    </tr>\n",
              "    <tr>\n",
              "      <th>4</th>\n",
              "      <td>5</td>\n",
              "      <td>606</td>\n",
              "      <td>3.09</td>\n",
              "    </tr>\n",
              "    <tr>\n",
              "      <th>...</th>\n",
              "      <td>...</td>\n",
              "      <td>...</td>\n",
              "      <td>...</td>\n",
              "    </tr>\n",
              "    <tr>\n",
              "      <th>77</th>\n",
              "      <td>78</td>\n",
              "      <td>590</td>\n",
              "      <td>3.15</td>\n",
              "    </tr>\n",
              "    <tr>\n",
              "      <th>78</th>\n",
              "      <td>79</td>\n",
              "      <td>558</td>\n",
              "      <td>2.81</td>\n",
              "    </tr>\n",
              "    <tr>\n",
              "      <th>79</th>\n",
              "      <td>80</td>\n",
              "      <td>611</td>\n",
              "      <td>3.16</td>\n",
              "    </tr>\n",
              "    <tr>\n",
              "      <th>80</th>\n",
              "      <td>81</td>\n",
              "      <td>564</td>\n",
              "      <td>3.02</td>\n",
              "    </tr>\n",
              "    <tr>\n",
              "      <th>81</th>\n",
              "      <td>82</td>\n",
              "      <td>575</td>\n",
              "      <td>2.74</td>\n",
              "    </tr>\n",
              "  </tbody>\n",
              "</table>\n",
              "<p>82 rows × 3 columns</p>\n",
              "</div>"
            ],
            "text/plain": [
              "    escuela  LSAT   GPA\n",
              "0         1   622  3.23\n",
              "1         2   542  2.83\n",
              "2         3   579  3.24\n",
              "3         4   653  3.12\n",
              "4         5   606  3.09\n",
              "..      ...   ...   ...\n",
              "77       78   590  3.15\n",
              "78       79   558  2.81\n",
              "79       80   611  3.16\n",
              "80       81   564  3.02\n",
              "81       82   575  2.74\n",
              "\n",
              "[82 rows x 3 columns]"
            ]
          },
          "metadata": {},
          "execution_count": 5
        }
      ]
    },
    {
      "cell_type": "code",
      "metadata": {
        "colab": {
          "base_uri": "https://localhost:8080/",
          "height": 544
        },
        "id": "5Ve7XA8mC9ma",
        "outputId": "c89dc550-d4fd-4717-cb6f-57fcb571e08b"
      },
      "source": [
        "#Seleccionamos aleatoriamente 15 escuelas\n",
        "escuelas_random = bd_escuelas.sample(n=15,random_state=5)[[\"escuela\"]]\n",
        "escuelas_random[\"f_seleccion\"]=1\n",
        "escuelas_random"
      ],
      "execution_count": 6,
      "outputs": [
        {
          "output_type": "execute_result",
          "data": {
            "text/html": [
              "<div>\n",
              "<style scoped>\n",
              "    .dataframe tbody tr th:only-of-type {\n",
              "        vertical-align: middle;\n",
              "    }\n",
              "\n",
              "    .dataframe tbody tr th {\n",
              "        vertical-align: top;\n",
              "    }\n",
              "\n",
              "    .dataframe thead th {\n",
              "        text-align: right;\n",
              "    }\n",
              "</style>\n",
              "<table border=\"1\" class=\"dataframe\">\n",
              "  <thead>\n",
              "    <tr style=\"text-align: right;\">\n",
              "      <th></th>\n",
              "      <th>escuela</th>\n",
              "      <th>f_seleccion</th>\n",
              "    </tr>\n",
              "  </thead>\n",
              "  <tbody>\n",
              "    <tr>\n",
              "      <th>45</th>\n",
              "      <td>46</td>\n",
              "      <td>1</td>\n",
              "    </tr>\n",
              "    <tr>\n",
              "      <th>28</th>\n",
              "      <td>29</td>\n",
              "      <td>1</td>\n",
              "    </tr>\n",
              "    <tr>\n",
              "      <th>10</th>\n",
              "      <td>11</td>\n",
              "      <td>1</td>\n",
              "    </tr>\n",
              "    <tr>\n",
              "      <th>33</th>\n",
              "      <td>34</td>\n",
              "      <td>1</td>\n",
              "    </tr>\n",
              "    <tr>\n",
              "      <th>22</th>\n",
              "      <td>23</td>\n",
              "      <td>1</td>\n",
              "    </tr>\n",
              "    <tr>\n",
              "      <th>17</th>\n",
              "      <td>18</td>\n",
              "      <td>1</td>\n",
              "    </tr>\n",
              "    <tr>\n",
              "      <th>37</th>\n",
              "      <td>38</td>\n",
              "      <td>1</td>\n",
              "    </tr>\n",
              "    <tr>\n",
              "      <th>12</th>\n",
              "      <td>13</td>\n",
              "      <td>1</td>\n",
              "    </tr>\n",
              "    <tr>\n",
              "      <th>40</th>\n",
              "      <td>41</td>\n",
              "      <td>1</td>\n",
              "    </tr>\n",
              "    <tr>\n",
              "      <th>54</th>\n",
              "      <td>55</td>\n",
              "      <td>1</td>\n",
              "    </tr>\n",
              "    <tr>\n",
              "      <th>23</th>\n",
              "      <td>24</td>\n",
              "      <td>1</td>\n",
              "    </tr>\n",
              "    <tr>\n",
              "      <th>20</th>\n",
              "      <td>21</td>\n",
              "      <td>1</td>\n",
              "    </tr>\n",
              "    <tr>\n",
              "      <th>26</th>\n",
              "      <td>27</td>\n",
              "      <td>1</td>\n",
              "    </tr>\n",
              "    <tr>\n",
              "      <th>43</th>\n",
              "      <td>44</td>\n",
              "      <td>1</td>\n",
              "    </tr>\n",
              "    <tr>\n",
              "      <th>77</th>\n",
              "      <td>78</td>\n",
              "      <td>1</td>\n",
              "    </tr>\n",
              "  </tbody>\n",
              "</table>\n",
              "</div>"
            ],
            "text/plain": [
              "    escuela  f_seleccion\n",
              "45       46            1\n",
              "28       29            1\n",
              "10       11            1\n",
              "33       34            1\n",
              "22       23            1\n",
              "17       18            1\n",
              "37       38            1\n",
              "12       13            1\n",
              "40       41            1\n",
              "54       55            1\n",
              "23       24            1\n",
              "20       21            1\n",
              "26       27            1\n",
              "43       44            1\n",
              "77       78            1"
            ]
          },
          "metadata": {},
          "execution_count": 6
        }
      ]
    },
    {
      "cell_type": "code",
      "metadata": {
        "colab": {
          "base_uri": "https://localhost:8080/",
          "height": 447
        },
        "id": "Y9L9AVRYDApm",
        "outputId": "f3ac8fdc-6095-489e-862e-69361486f8c9"
      },
      "source": [
        "#Agregamos una columna f_seleccion, donde 1 es el renglon seleccionado en el anterior punto\n",
        "# y 0 es el renglon no seleccionado\n",
        "bd_escuelas=pd.merge(bd_escuelas,escuelas_random, how=\"left\",on=[\"escuela\"])\n",
        "bd_escuelas[\"f_seleccion\"]=bd_escuelas[\"f_seleccion\"].fillna(0)\n",
        "bd_escuelas[\"f_seleccion\"]=bd_escuelas[\"f_seleccion\"].astype(int)\n",
        "bd_escuelas\n"
      ],
      "execution_count": 7,
      "outputs": [
        {
          "output_type": "execute_result",
          "data": {
            "text/html": [
              "<div>\n",
              "<style scoped>\n",
              "    .dataframe tbody tr th:only-of-type {\n",
              "        vertical-align: middle;\n",
              "    }\n",
              "\n",
              "    .dataframe tbody tr th {\n",
              "        vertical-align: top;\n",
              "    }\n",
              "\n",
              "    .dataframe thead th {\n",
              "        text-align: right;\n",
              "    }\n",
              "</style>\n",
              "<table border=\"1\" class=\"dataframe\">\n",
              "  <thead>\n",
              "    <tr style=\"text-align: right;\">\n",
              "      <th></th>\n",
              "      <th>escuela</th>\n",
              "      <th>LSAT</th>\n",
              "      <th>GPA</th>\n",
              "      <th>f_seleccion</th>\n",
              "    </tr>\n",
              "  </thead>\n",
              "  <tbody>\n",
              "    <tr>\n",
              "      <th>0</th>\n",
              "      <td>1</td>\n",
              "      <td>622</td>\n",
              "      <td>3.23</td>\n",
              "      <td>0</td>\n",
              "    </tr>\n",
              "    <tr>\n",
              "      <th>1</th>\n",
              "      <td>2</td>\n",
              "      <td>542</td>\n",
              "      <td>2.83</td>\n",
              "      <td>0</td>\n",
              "    </tr>\n",
              "    <tr>\n",
              "      <th>2</th>\n",
              "      <td>3</td>\n",
              "      <td>579</td>\n",
              "      <td>3.24</td>\n",
              "      <td>0</td>\n",
              "    </tr>\n",
              "    <tr>\n",
              "      <th>3</th>\n",
              "      <td>4</td>\n",
              "      <td>653</td>\n",
              "      <td>3.12</td>\n",
              "      <td>0</td>\n",
              "    </tr>\n",
              "    <tr>\n",
              "      <th>4</th>\n",
              "      <td>5</td>\n",
              "      <td>606</td>\n",
              "      <td>3.09</td>\n",
              "      <td>0</td>\n",
              "    </tr>\n",
              "    <tr>\n",
              "      <th>...</th>\n",
              "      <td>...</td>\n",
              "      <td>...</td>\n",
              "      <td>...</td>\n",
              "      <td>...</td>\n",
              "    </tr>\n",
              "    <tr>\n",
              "      <th>77</th>\n",
              "      <td>78</td>\n",
              "      <td>590</td>\n",
              "      <td>3.15</td>\n",
              "      <td>1</td>\n",
              "    </tr>\n",
              "    <tr>\n",
              "      <th>78</th>\n",
              "      <td>79</td>\n",
              "      <td>558</td>\n",
              "      <td>2.81</td>\n",
              "      <td>0</td>\n",
              "    </tr>\n",
              "    <tr>\n",
              "      <th>79</th>\n",
              "      <td>80</td>\n",
              "      <td>611</td>\n",
              "      <td>3.16</td>\n",
              "      <td>0</td>\n",
              "    </tr>\n",
              "    <tr>\n",
              "      <th>80</th>\n",
              "      <td>81</td>\n",
              "      <td>564</td>\n",
              "      <td>3.02</td>\n",
              "      <td>0</td>\n",
              "    </tr>\n",
              "    <tr>\n",
              "      <th>81</th>\n",
              "      <td>82</td>\n",
              "      <td>575</td>\n",
              "      <td>2.74</td>\n",
              "      <td>0</td>\n",
              "    </tr>\n",
              "  </tbody>\n",
              "</table>\n",
              "<p>82 rows × 4 columns</p>\n",
              "</div>"
            ],
            "text/plain": [
              "    escuela  LSAT   GPA  f_seleccion\n",
              "0         1   622  3.23            0\n",
              "1         2   542  2.83            0\n",
              "2         3   579  3.24            0\n",
              "3         4   653  3.12            0\n",
              "4         5   606  3.09            0\n",
              "..      ...   ...   ...          ...\n",
              "77       78   590  3.15            1\n",
              "78       79   558  2.81            0\n",
              "79       80   611  3.16            0\n",
              "80       81   564  3.02            0\n",
              "81       82   575  2.74            0\n",
              "\n",
              "[82 rows x 4 columns]"
            ]
          },
          "metadata": {},
          "execution_count": 7
        }
      ]
    },
    {
      "cell_type": "code",
      "metadata": {
        "colab": {
          "base_uri": "https://localhost:8080/",
          "height": 417
        },
        "id": "MLgGwMoUDDPh",
        "outputId": "f0c033ea-7888-4402-d246-ec79c70eb582"
      },
      "source": [
        "#Grafico de nuestra base\n",
        "#Los puntos verdes son las escuelas seleccionados \n",
        "#Los puntos azules son las escuelas no seleccionadas\n",
        "fig, ax =plt.subplots(figsize=(9,6))\n",
        "plot(bd_escuelas[bd_escuelas[\"f_seleccion\"]==0].LSAT,\n",
        "    bd_escuelas[bd_escuelas[\"f_seleccion\"]==0].GPA,\"o\",color=\"blue\" , markerfacecolor=\"white\")\n",
        "plot(bd_escuelas[bd_escuelas[\"f_seleccion\"]==1].LSAT,\n",
        "    bd_escuelas[bd_escuelas[\"f_seleccion\"]==1].GPA,\"o\",color=\"green\")\n",
        "\n",
        "xlabel(\"LSAT\",size=14)\n",
        "ylabel(\"GPA\",size=14)\n",
        "\n",
        "xticks(fontsize=16)\n",
        "yticks(fontsize=16)\n",
        "\n",
        "show()\n"
      ],
      "execution_count": 8,
      "outputs": [
        {
          "output_type": "display_data",
          "data": {
            "image/png": "[encoded data removed]",
            "text/plain": [
              "<Figure size 648x432 with 1 Axes>"
            ]
          },
          "metadata": {
            "needs_background": "light"
          }
        }
      ]
    },
    {
      "cell_type": "code",
      "metadata": {
        "colab": {
          "base_uri": "https://localhost:8080/",
          "height": 544
        },
        "id": "iXab_ULvDH-M",
        "outputId": "8996dba9-fcf9-4696-f339-b98288b2da4a"
      },
      "source": [
        "bd_escuelasm = bd_escuelas[ bd_escuelas[\"f_seleccion\"]==1]\n",
        "bd_escuelasm"
      ],
      "execution_count": 9,
      "outputs": [
        {
          "output_type": "execute_result",
          "data": {
            "text/html": [
              "<div>\n",
              "<style scoped>\n",
              "    .dataframe tbody tr th:only-of-type {\n",
              "        vertical-align: middle;\n",
              "    }\n",
              "\n",
              "    .dataframe tbody tr th {\n",
              "        vertical-align: top;\n",
              "    }\n",
              "\n",
              "    .dataframe thead th {\n",
              "        text-align: right;\n",
              "    }\n",
              "</style>\n",
              "<table border=\"1\" class=\"dataframe\">\n",
              "  <thead>\n",
              "    <tr style=\"text-align: right;\">\n",
              "      <th></th>\n",
              "      <th>escuela</th>\n",
              "      <th>LSAT</th>\n",
              "      <th>GPA</th>\n",
              "      <th>f_seleccion</th>\n",
              "    </tr>\n",
              "  </thead>\n",
              "  <tbody>\n",
              "    <tr>\n",
              "      <th>10</th>\n",
              "      <td>11</td>\n",
              "      <td>558</td>\n",
              "      <td>3.11</td>\n",
              "      <td>1</td>\n",
              "    </tr>\n",
              "    <tr>\n",
              "      <th>12</th>\n",
              "      <td>13</td>\n",
              "      <td>635</td>\n",
              "      <td>3.30</td>\n",
              "      <td>1</td>\n",
              "    </tr>\n",
              "    <tr>\n",
              "      <th>17</th>\n",
              "      <td>18</td>\n",
              "      <td>646</td>\n",
              "      <td>3.47</td>\n",
              "      <td>1</td>\n",
              "    </tr>\n",
              "    <tr>\n",
              "      <th>20</th>\n",
              "      <td>21</td>\n",
              "      <td>546</td>\n",
              "      <td>2.99</td>\n",
              "      <td>1</td>\n",
              "    </tr>\n",
              "    <tr>\n",
              "      <th>22</th>\n",
              "      <td>23</td>\n",
              "      <td>628</td>\n",
              "      <td>3.03</td>\n",
              "      <td>1</td>\n",
              "    </tr>\n",
              "    <tr>\n",
              "      <th>23</th>\n",
              "      <td>24</td>\n",
              "      <td>575</td>\n",
              "      <td>3.01</td>\n",
              "      <td>1</td>\n",
              "    </tr>\n",
              "    <tr>\n",
              "      <th>26</th>\n",
              "      <td>27</td>\n",
              "      <td>608</td>\n",
              "      <td>3.04</td>\n",
              "      <td>1</td>\n",
              "    </tr>\n",
              "    <tr>\n",
              "      <th>28</th>\n",
              "      <td>29</td>\n",
              "      <td>587</td>\n",
              "      <td>3.16</td>\n",
              "      <td>1</td>\n",
              "    </tr>\n",
              "    <tr>\n",
              "      <th>33</th>\n",
              "      <td>34</td>\n",
              "      <td>591</td>\n",
              "      <td>3.02</td>\n",
              "      <td>1</td>\n",
              "    </tr>\n",
              "    <tr>\n",
              "      <th>37</th>\n",
              "      <td>38</td>\n",
              "      <td>606</td>\n",
              "      <td>3.20</td>\n",
              "      <td>1</td>\n",
              "    </tr>\n",
              "    <tr>\n",
              "      <th>40</th>\n",
              "      <td>41</td>\n",
              "      <td>595</td>\n",
              "      <td>3.11</td>\n",
              "      <td>1</td>\n",
              "    </tr>\n",
              "    <tr>\n",
              "      <th>43</th>\n",
              "      <td>44</td>\n",
              "      <td>644</td>\n",
              "      <td>3.38</td>\n",
              "      <td>1</td>\n",
              "    </tr>\n",
              "    <tr>\n",
              "      <th>45</th>\n",
              "      <td>46</td>\n",
              "      <td>645</td>\n",
              "      <td>3.27</td>\n",
              "      <td>1</td>\n",
              "    </tr>\n",
              "    <tr>\n",
              "      <th>54</th>\n",
              "      <td>55</td>\n",
              "      <td>560</td>\n",
              "      <td>2.93</td>\n",
              "      <td>1</td>\n",
              "    </tr>\n",
              "    <tr>\n",
              "      <th>77</th>\n",
              "      <td>78</td>\n",
              "      <td>590</td>\n",
              "      <td>3.15</td>\n",
              "      <td>1</td>\n",
              "    </tr>\n",
              "  </tbody>\n",
              "</table>\n",
              "</div>"
            ],
            "text/plain": [
              "    escuela  LSAT   GPA  f_seleccion\n",
              "10       11   558  3.11            1\n",
              "12       13   635  3.30            1\n",
              "17       18   646  3.47            1\n",
              "20       21   546  2.99            1\n",
              "22       23   628  3.03            1\n",
              "23       24   575  3.01            1\n",
              "26       27   608  3.04            1\n",
              "28       29   587  3.16            1\n",
              "33       34   591  3.02            1\n",
              "37       38   606  3.20            1\n",
              "40       41   595  3.11            1\n",
              "43       44   644  3.38            1\n",
              "45       46   645  3.27            1\n",
              "54       55   560  2.93            1\n",
              "77       78   590  3.15            1"
            ]
          },
          "metadata": {},
          "execution_count": 9
        }
      ]
    },
    {
      "cell_type": "code",
      "metadata": {
        "colab": {
          "base_uri": "https://localhost:8080/"
        },
        "id": "MavITrigK9s-",
        "outputId": "60db24f8-a407-4aeb-f597-ece12b883e8c"
      },
      "source": [
        "#Correlacion de la muestra seleccionada\n",
        "corr,_=spearmanr(bd_escuelas[bd_escuelas[\"f_seleccion\"]==1].LSAT, bd_escuelas[bd_escuelas[\"f_seleccion\"]==1].GPA)\n",
        "print('Spearmans correlation:%3f' %corr)                                                                "
      ],
      "execution_count": 10,
      "outputs": [
        {
          "output_type": "stream",
          "name": "stdout",
          "text": [
            "Spearmans correlation:0.747096\n"
          ]
        }
      ]
    },
    {
      "cell_type": "code",
      "metadata": {
        "colab": {
          "base_uri": "https://localhost:8080/"
        },
        "id": "FAW1hl5WLAPT",
        "outputId": "b2de390c-ffdd-42b5-b3bf-171b9af0e610"
      },
      "source": [
        "#Correlacion de toda la base\n",
        "corr,_=spearmanr(bd_escuelas.LSAT, bd_escuelas.GPA)\n",
        "print('Spearmans correlation:%3f' %corr)"
      ],
      "execution_count": 11,
      "outputs": [
        {
          "output_type": "stream",
          "name": "stdout",
          "text": [
            "Spearmans correlation:0.752662\n"
          ]
        }
      ]
    },
    {
      "cell_type": "markdown",
      "metadata": {
        "id": "JdiRqz1XRXad"
      },
      "source": [
        "Vamos a simular 3200 muestras bootstrap para ver el sesgo que se recupera"
      ]
    },
    {
      "cell_type": "code",
      "metadata": {
        "id": "X4nIdGMBDND0"
      },
      "source": [
        "#Realizamos una simulacion con los datos seleccionados de la columna lsat\n",
        "simul=3200\n",
        "m=np.array([])\n",
        "lsat=np.array([558,635,646,546,628,575,608,587,591,606,595,644,645,560,590])\n",
        "for i in range(0,simul):\n",
        "    x_i=np.random.choice(lsat,len(lsat),replace=True)\n",
        "    m=np.append(m,x_i)\n",
        "m=np.reshape(m,(simul, len(lsat)))    \n",
        "\n",
        "prom_lsat=np.array([])\n",
        "for i in range(0,simul):\n",
        "    prom_i=np.mean(m[i])\n",
        "    prom_lsat=np.append(prom_lsat,prom_i)\n",
        "    \n",
        "mediana_lsat=np.array([])\n",
        "for i in range(0,simul):\n",
        "    mediana_i=np.median(m[i])\n",
        "    mediana_lsat=np.append(mediana_lsat,mediana_i)   \n",
        "    "
      ],
      "execution_count": 13,
      "outputs": []
    },
    {
      "cell_type": "markdown",
      "metadata": {
        "id": "DFOqtmyjR26Y"
      },
      "source": [
        "Ya que obtuvimos la media, graficamos el promedio con y sin Bootstraping"
      ]
    },
    {
      "cell_type": "code",
      "metadata": {
        "colab": {
          "base_uri": "https://localhost:8080/",
          "height": 398
        },
        "id": "gO2fuGukQnMU",
        "outputId": "b531a462-1e1c-4c1d-9245-6c8d6514f860"
      },
      "source": [
        "#Grafico del promedio con y sin Bootstraping\n",
        "fig, ax = plt.subplots(figsize=(9,6))\n",
        "hist(prom_lsat, bins=30, alpha=0.5, edgecolor=\"white\", label=\"Promedios con B\")\n",
        "axvline(x=np.mean(lsat), color = \"green\", linestyle = '--', linewidth=3, label=\"Promedios Sin B\")\n",
        "legend()\n",
        "show()"
      ],
      "execution_count": 17,
      "outputs": [
        {
          "output_type": "display_data",
          "data": {
            "image/png": "[encoded data removed]",
            "text/plain": [
              "<Figure size 648x432 with 1 Axes>"
            ]
          },
          "metadata": {
            "needs_background": "light"
          }
        }
      ]
    },
    {
      "cell_type": "code",
      "metadata": {
        "colab": {
          "base_uri": "https://localhost:8080/"
        },
        "id": "Rhwp-lSjDQyo",
        "outputId": "07db8912-8e3f-4596-e2f3-b729cbbdd147"
      },
      "source": [
        "prom_lsat"
      ],
      "execution_count": 18,
      "outputs": [
        {
          "output_type": "execute_result",
          "data": {
            "text/plain": [
              "array([599.86666667, 584.13333333, 600.93333333, ..., 595.13333333,\n",
              "       605.6       , 606.93333333])"
            ]
          },
          "metadata": {},
          "execution_count": 18
        }
      ]
    },
    {
      "cell_type": "code",
      "metadata": {
        "colab": {
          "base_uri": "https://localhost:8080/"
        },
        "id": "_a7SAuNuDS8Q",
        "outputId": "13c30092-162c-4a45-8306-7e87ca9f8f82"
      },
      "source": [
        "sqrt(sum((prom_lsat-np.mean(prom_lsat))**2)/(simul-1))"
      ],
      "execution_count": 19,
      "outputs": [
        {
          "output_type": "execute_result",
          "data": {
            "text/plain": [
              "8.37721096265955"
            ]
          },
          "metadata": {},
          "execution_count": 19
        }
      ]
    },
    {
      "cell_type": "code",
      "metadata": {
        "colab": {
          "base_uri": "https://localhost:8080/"
        },
        "id": "NWvMjU2gDUoP",
        "outputId": "143c4251-3c36-45e4-ed6b-d9c3f8221627"
      },
      "source": [
        "#Error con base a la mediana\n",
        "err1=sqrt(sum((mediana_lsat-np.mean(mediana_lsat))**2)/(simul-1))\n",
        "err1"
      ],
      "execution_count": 22,
      "outputs": [
        {
          "output_type": "execute_result",
          "data": {
            "text/plain": [
              "12.838179644181407"
            ]
          },
          "metadata": {},
          "execution_count": 22
        }
      ]
    },
    {
      "cell_type": "code",
      "metadata": {
        "id": "oDIllVXUDKCp"
      },
      "source": [
        "#Simulacion con la muestra seleccionada de la coliumna gpa\n",
        "m2=np.array([])\n",
        "gpa=np.array([3.11,3.30,3.47,2.99,3.03,3.01,3.04,3.16,3.02,3.20,3.11,3.38,3.27,2.93,3.15])\n",
        "for i in range(0,simul):\n",
        "    x_i=np.random.choice(gpa,len(gpa),replace=True)\n",
        "    m2=np.append(m2,x_i)\n",
        "    \n",
        "m2=np.reshape(m2,(simul, len(gpa)))   \n",
        "\n",
        "prom_gpa=np.array([])\n",
        "for i in range(0,simul):\n",
        "    prom_i=np.mean(m2[i])\n",
        "    prom_gpa=np.append(prom_gpa,prom_i)\n",
        "    \n",
        "mediana_gpa=np.array([])\n",
        "for i in range(0,simul):\n",
        "    mediana_i=np.median(m2[i])\n",
        "    mediana_gpa=np.append(mediana_gpa,mediana_i)\n",
        "    "
      ],
      "execution_count": 29,
      "outputs": []
    },
    {
      "cell_type": "code",
      "metadata": {
        "colab": {
          "base_uri": "https://localhost:8080/",
          "height": 394
        },
        "id": "VJ62KQ-VDabq",
        "outputId": "bfc68c5c-b55c-4a99-d59c-b95aee0057a3"
      },
      "source": [
        "#Grafico de la media con y sin bootstraping\n",
        "fig,ax = plt.subplots(figsize=(9,6))\n",
        "hist(prom_gpa,bins=30,alpha=0.05,edgecolor=\"white\",label=\"PROMEDIOS CON B\")\n",
        "axvline(x=np.mean(gpa),color=\"green\",linestyle=\"--\",linewidth=3,label=\"PROMEDIOS SIN B\")\n",
        "legend()\n",
        "show()\n"
      ],
      "execution_count": 30,
      "outputs": [
        {
          "output_type": "display_data",
          "data": {
            "image/png": "[encoded data removed]",
            "text/plain": [
              "<Figure size 648x432 with 1 Axes>"
            ]
          },
          "metadata": {
            "needs_background": "light"
          }
        }
      ]
    },
    {
      "cell_type": "code",
      "metadata": {
        "colab": {
          "base_uri": "https://localhost:8080/"
        },
        "id": "URptlYR7DcpT",
        "outputId": "8faae5bd-5b40-49b2-9718-0e2f8ecb702e"
      },
      "source": [
        "\n",
        "sqrt(sum((prom_gpa-np.mean(prom_gpa))**2)/(simul-1))"
      ],
      "execution_count": 31,
      "outputs": [
        {
          "output_type": "execute_result",
          "data": {
            "text/plain": [
              "0.03858894785050358"
            ]
          },
          "metadata": {},
          "execution_count": 31
        }
      ]
    },
    {
      "cell_type": "code",
      "metadata": {
        "colab": {
          "base_uri": "https://localhost:8080/"
        },
        "id": "-WIx4L4oDeb6",
        "outputId": "5af1597a-d7b1-4b4d-9044-01f9fe08abc2"
      },
      "source": [
        "#Error con base a la mediana de la muestra gpa\n",
        "err2=sqrt(sum((mediana_gpa-np.mean(mediana_gpa))**2)/(simul-1))\n",
        "err2"
      ],
      "execution_count": 32,
      "outputs": [
        {
          "output_type": "execute_result",
          "data": {
            "text/plain": [
              "0.05532038521131344"
            ]
          },
          "metadata": {},
          "execution_count": 32
        }
      ]
    },
    {
      "cell_type": "code",
      "metadata": {
        "colab": {
          "base_uri": "https://localhost:8080/"
        },
        "id": "jP6M4QDoDgp-",
        "outputId": "0d18c2b3-bc05-4093-b773-9ddcedd16e96"
      },
      "source": [
        "#Desviación estandar de las diferencias\n",
        "f_err=np.sqrt((err1**2)+(err2**2))\n",
        "f_err"
      ],
      "execution_count": 33,
      "outputs": [
        {
          "output_type": "execute_result",
          "data": {
            "text/plain": [
              "12.838298832839723"
            ]
          },
          "metadata": {},
          "execution_count": 33
        }
      ]
    },
    {
      "cell_type": "code",
      "metadata": {
        "id": "5r8NLM3YDji5"
      },
      "source": [
        "x_lsat=mean(prom_lsat)\n",
        "y_gpa=mean(prom_gpa)"
      ],
      "execution_count": 34,
      "outputs": []
    },
    {
      "cell_type": "code",
      "metadata": {
        "colab": {
          "base_uri": "https://localhost:8080/"
        },
        "id": "oPNjIAXjTEWP",
        "outputId": "6cbe198d-a7eb-444e-a7e3-919ec1c92e68"
      },
      "source": [
        "x_lsat"
      ],
      "execution_count": 35,
      "outputs": [
        {
          "output_type": "execute_result",
          "data": {
            "text/plain": [
              "600.8660833333333"
            ]
          },
          "metadata": {},
          "execution_count": 35
        }
      ]
    },
    {
      "cell_type": "code",
      "metadata": {
        "colab": {
          "base_uri": "https://localhost:8080/"
        },
        "id": "B5AWXZtvTGNv",
        "outputId": "9066b378-3670-4be5-ffd5-4fe58916feb4"
      },
      "source": [
        "y_gpa"
      ],
      "execution_count": 36,
      "outputs": [
        {
          "output_type": "execute_result",
          "data": {
            "text/plain": [
              "3.1446022916666667"
            ]
          },
          "metadata": {},
          "execution_count": 36
        }
      ]
    },
    {
      "cell_type": "code",
      "metadata": {
        "colab": {
          "base_uri": "https://localhost:8080/"
        },
        "id": "xJmiQnfbT5OA",
        "outputId": "223cbfde-2bf9-45b1-f014-74bcfd71103a"
      },
      "source": [
        "prom_lsat"
      ],
      "execution_count": 41,
      "outputs": [
        {
          "output_type": "execute_result",
          "data": {
            "text/plain": [
              "array([599.86666667, 584.13333333, 600.93333333, ..., 595.13333333,\n",
              "       605.6       , 606.93333333])"
            ]
          },
          "metadata": {},
          "execution_count": 41
        }
      ]
    },
    {
      "cell_type": "code",
      "metadata": {
        "colab": {
          "base_uri": "https://localhost:8080/"
        },
        "id": "508OwIhUDnrk",
        "outputId": "e9943e81-537d-4726-d1ab-3b7c926683fe"
      },
      "source": [
        "#Diferencia de los promedios\n",
        "dif=x_lsat-y_gpa\n",
        "dif"
      ],
      "execution_count": 37,
      "outputs": [
        {
          "output_type": "execute_result",
          "data": {
            "text/plain": [
              "597.7214810416667"
            ]
          },
          "metadata": {},
          "execution_count": 37
        }
      ]
    },
    {
      "cell_type": "code",
      "metadata": {
        "colab": {
          "base_uri": "https://localhost:8080/"
        },
        "id": "o9z9Ka-ZDqcK",
        "outputId": "ab7ff949-b393-41ae-e6fa-7291d253a7e0"
      },
      "source": [
        "f_dif=prom_lsat-prom_gpa\n",
        "f_dif"
      ],
      "execution_count": 42,
      "outputs": [
        {
          "output_type": "execute_result",
          "data": {
            "text/plain": [
              "array([596.692     , 580.94666667, 597.81466667, ..., 591.93733333,\n",
              "       602.48533333, 603.788     ])"
            ]
          },
          "metadata": {},
          "execution_count": 42
        }
      ]
    },
    {
      "cell_type": "code",
      "metadata": {
        "colab": {
          "base_uri": "https://localhost:8080/"
        },
        "id": "nSDzpc_1Dr-P",
        "outputId": "af67d5e4-c320-4e74-9ed6-9ce8cd81a25c"
      },
      "source": [
        "#Error con el promedio\n",
        "err_mean1=sqrt(sum((prom_lsat-np.mean(prom_lsat))**2)/(simul-1))\n",
        "err_mean2=sqrt(sum((prom_gpa-np.mean(prom_gpa))**2)/(simul-1))\n",
        "f_err_mean=np.sqrt((err_mean1**2)+(err_mean2**2))\n",
        "f_err_mean\n"
      ],
      "execution_count": 43,
      "outputs": [
        {
          "output_type": "execute_result",
          "data": {
            "text/plain": [
              "8.377299840628815"
            ]
          },
          "metadata": {},
          "execution_count": 43
        }
      ]
    },
    {
      "cell_type": "code",
      "metadata": {
        "colab": {
          "base_uri": "https://localhost:8080/"
        },
        "id": "JogDaLLUDuQ5",
        "outputId": "a5b94904-b0ac-45ee-e68c-6252b11b6d6e"
      },
      "source": [
        "dif/f_err_mean"
      ],
      "execution_count": 44,
      "outputs": [
        {
          "output_type": "execute_result",
          "data": {
            "text/plain": [
              "71.35013577319928"
            ]
          },
          "metadata": {},
          "execution_count": 44
        }
      ]
    },
    {
      "cell_type": "code",
      "metadata": {
        "colab": {
          "base_uri": "https://localhost:8080/",
          "height": 395
        },
        "id": "r05fKuM4DwUH",
        "outputId": "762afa13-c573-4ecd-a94a-dd493f8a7176"
      },
      "source": [
        "fig, ax = plt.subplots(figsize=(9,6))\n",
        "hist(f_dif[f_dif>=0],bins=30,color=\"green\", edgecolor=\"white\", label=\"Diferencias Positivas\", alpha= 0.4, )\n",
        "hist(f_dif[f_dif<0],bins=30,color=\"gray\", edgecolor=\"white\", label=\"Diferencias Negativas\", alpha= 0.5)\n",
        "axvline(x=np.mean(dif), color=\"blue\", linestyle=\"--\", linewidth = 3, label = \"Diferencias\")\n",
        "legend()\n",
        "show()\n"
      ],
      "execution_count": 46,
      "outputs": [
        {
          "output_type": "display_data",
          "data": {
            "image/png": "[encoded data removed]",
            "text/plain": [
              "<Figure size 432x432 with 1 Axes>"
            ]
          },
          "metadata": {
            "needs_background": "light"
          }
        }
      ]
    },
    {
      "cell_type": "markdown",
      "metadata": {
        "id": "vqkaFACFa-Fg"
      },
      "source": [
        "Podemos concliuir que es una buena muestra, ya que el error es muy pequeño."
      ]
    },
    {
      "cell_type": "markdown",
      "metadata": {
        "id": "RFBfFRXCU1eU"
      },
      "source": [
        "##Ahora lo realizaremos con N=14 \n",
        "\n",
        "Realizamos el mismo procedimiento que para N=15"
      ]
    },
    {
      "cell_type": "code",
      "metadata": {
        "colab": {
          "base_uri": "https://localhost:8080/",
          "height": 447
        },
        "id": "_tI5QPXnVGPg",
        "outputId": "6f5fa264-81d0-4fe7-b0cc-01c3367ad613"
      },
      "source": [
        "#Ejercicio 2 \n",
        "bd = \"data_schools.xlsx\"\n",
        "bd_escuelas=pd.read_excel(bd)\n",
        "bd_escuelas"
      ],
      "execution_count": 49,
      "outputs": [
        {
          "output_type": "execute_result",
          "data": {
            "text/html": [
              "<div>\n",
              "<style scoped>\n",
              "    .dataframe tbody tr th:only-of-type {\n",
              "        vertical-align: middle;\n",
              "    }\n",
              "\n",
              "    .dataframe tbody tr th {\n",
              "        vertical-align: top;\n",
              "    }\n",
              "\n",
              "    .dataframe thead th {\n",
              "        text-align: right;\n",
              "    }\n",
              "</style>\n",
              "<table border=\"1\" class=\"dataframe\">\n",
              "  <thead>\n",
              "    <tr style=\"text-align: right;\">\n",
              "      <th></th>\n",
              "      <th>escuela</th>\n",
              "      <th>LSAT</th>\n",
              "      <th>GPA</th>\n",
              "    </tr>\n",
              "  </thead>\n",
              "  <tbody>\n",
              "    <tr>\n",
              "      <th>0</th>\n",
              "      <td>1</td>\n",
              "      <td>622</td>\n",
              "      <td>3.23</td>\n",
              "    </tr>\n",
              "    <tr>\n",
              "      <th>1</th>\n",
              "      <td>2</td>\n",
              "      <td>542</td>\n",
              "      <td>2.83</td>\n",
              "    </tr>\n",
              "    <tr>\n",
              "      <th>2</th>\n",
              "      <td>3</td>\n",
              "      <td>579</td>\n",
              "      <td>3.24</td>\n",
              "    </tr>\n",
              "    <tr>\n",
              "      <th>3</th>\n",
              "      <td>4</td>\n",
              "      <td>653</td>\n",
              "      <td>3.12</td>\n",
              "    </tr>\n",
              "    <tr>\n",
              "      <th>4</th>\n",
              "      <td>5</td>\n",
              "      <td>606</td>\n",
              "      <td>3.09</td>\n",
              "    </tr>\n",
              "    <tr>\n",
              "      <th>...</th>\n",
              "      <td>...</td>\n",
              "      <td>...</td>\n",
              "      <td>...</td>\n",
              "    </tr>\n",
              "    <tr>\n",
              "      <th>77</th>\n",
              "      <td>78</td>\n",
              "      <td>590</td>\n",
              "      <td>3.15</td>\n",
              "    </tr>\n",
              "    <tr>\n",
              "      <th>78</th>\n",
              "      <td>79</td>\n",
              "      <td>558</td>\n",
              "      <td>2.81</td>\n",
              "    </tr>\n",
              "    <tr>\n",
              "      <th>79</th>\n",
              "      <td>80</td>\n",
              "      <td>611</td>\n",
              "      <td>3.16</td>\n",
              "    </tr>\n",
              "    <tr>\n",
              "      <th>80</th>\n",
              "      <td>81</td>\n",
              "      <td>564</td>\n",
              "      <td>3.02</td>\n",
              "    </tr>\n",
              "    <tr>\n",
              "      <th>81</th>\n",
              "      <td>82</td>\n",
              "      <td>575</td>\n",
              "      <td>2.74</td>\n",
              "    </tr>\n",
              "  </tbody>\n",
              "</table>\n",
              "<p>82 rows × 3 columns</p>\n",
              "</div>"
            ],
            "text/plain": [
              "    escuela  LSAT   GPA\n",
              "0         1   622  3.23\n",
              "1         2   542  2.83\n",
              "2         3   579  3.24\n",
              "3         4   653  3.12\n",
              "4         5   606  3.09\n",
              "..      ...   ...   ...\n",
              "77       78   590  3.15\n",
              "78       79   558  2.81\n",
              "79       80   611  3.16\n",
              "80       81   564  3.02\n",
              "81       82   575  2.74\n",
              "\n",
              "[82 rows x 3 columns]"
            ]
          },
          "metadata": {},
          "execution_count": 49
        }
      ]
    },
    {
      "cell_type": "code",
      "metadata": {
        "colab": {
          "base_uri": "https://localhost:8080/",
          "height": 512
        },
        "id": "6aBssBHnU039",
        "outputId": "be4c59fc-31e9-4ead-98fa-7a98f7f63a15"
      },
      "source": [
        "#Seleccionamos aleatoriamente 15 escuelas\n",
        "escuelas_random = bd_escuelas.sample(n=14,random_state=5)[[\"escuela\"]]\n",
        "escuelas_random[\"f_seleccion\"]=1\n",
        "escuelas_random"
      ],
      "execution_count": 50,
      "outputs": [
        {
          "output_type": "execute_result",
          "data": {
            "text/html": [
              "<div>\n",
              "<style scoped>\n",
              "    .dataframe tbody tr th:only-of-type {\n",
              "        vertical-align: middle;\n",
              "    }\n",
              "\n",
              "    .dataframe tbody tr th {\n",
              "        vertical-align: top;\n",
              "    }\n",
              "\n",
              "    .dataframe thead th {\n",
              "        text-align: right;\n",
              "    }\n",
              "</style>\n",
              "<table border=\"1\" class=\"dataframe\">\n",
              "  <thead>\n",
              "    <tr style=\"text-align: right;\">\n",
              "      <th></th>\n",
              "      <th>escuela</th>\n",
              "      <th>f_seleccion</th>\n",
              "    </tr>\n",
              "  </thead>\n",
              "  <tbody>\n",
              "    <tr>\n",
              "      <th>45</th>\n",
              "      <td>46</td>\n",
              "      <td>1</td>\n",
              "    </tr>\n",
              "    <tr>\n",
              "      <th>28</th>\n",
              "      <td>29</td>\n",
              "      <td>1</td>\n",
              "    </tr>\n",
              "    <tr>\n",
              "      <th>10</th>\n",
              "      <td>11</td>\n",
              "      <td>1</td>\n",
              "    </tr>\n",
              "    <tr>\n",
              "      <th>33</th>\n",
              "      <td>34</td>\n",
              "      <td>1</td>\n",
              "    </tr>\n",
              "    <tr>\n",
              "      <th>22</th>\n",
              "      <td>23</td>\n",
              "      <td>1</td>\n",
              "    </tr>\n",
              "    <tr>\n",
              "      <th>17</th>\n",
              "      <td>18</td>\n",
              "      <td>1</td>\n",
              "    </tr>\n",
              "    <tr>\n",
              "      <th>37</th>\n",
              "      <td>38</td>\n",
              "      <td>1</td>\n",
              "    </tr>\n",
              "    <tr>\n",
              "      <th>12</th>\n",
              "      <td>13</td>\n",
              "      <td>1</td>\n",
              "    </tr>\n",
              "    <tr>\n",
              "      <th>40</th>\n",
              "      <td>41</td>\n",
              "      <td>1</td>\n",
              "    </tr>\n",
              "    <tr>\n",
              "      <th>54</th>\n",
              "      <td>55</td>\n",
              "      <td>1</td>\n",
              "    </tr>\n",
              "    <tr>\n",
              "      <th>23</th>\n",
              "      <td>24</td>\n",
              "      <td>1</td>\n",
              "    </tr>\n",
              "    <tr>\n",
              "      <th>20</th>\n",
              "      <td>21</td>\n",
              "      <td>1</td>\n",
              "    </tr>\n",
              "    <tr>\n",
              "      <th>26</th>\n",
              "      <td>27</td>\n",
              "      <td>1</td>\n",
              "    </tr>\n",
              "    <tr>\n",
              "      <th>43</th>\n",
              "      <td>44</td>\n",
              "      <td>1</td>\n",
              "    </tr>\n",
              "  </tbody>\n",
              "</table>\n",
              "</div>"
            ],
            "text/plain": [
              "    escuela  f_seleccion\n",
              "45       46            1\n",
              "28       29            1\n",
              "10       11            1\n",
              "33       34            1\n",
              "22       23            1\n",
              "17       18            1\n",
              "37       38            1\n",
              "12       13            1\n",
              "40       41            1\n",
              "54       55            1\n",
              "23       24            1\n",
              "20       21            1\n",
              "26       27            1\n",
              "43       44            1"
            ]
          },
          "metadata": {},
          "execution_count": 50
        }
      ]
    },
    {
      "cell_type": "code",
      "metadata": {
        "colab": {
          "base_uri": "https://localhost:8080/",
          "height": 447
        },
        "id": "fsuzNX2tU-jZ",
        "outputId": "44571b1f-ae9c-410b-d65d-7d3c7a791792"
      },
      "source": [
        "bd_escuelas=pd.merge(bd_escuelas,escuelas_random, how=\"left\",on=[\"escuela\"])\n",
        "bd_escuelas[\"f_seleccion\"]=bd_escuelas[\"f_seleccion\"].fillna(0)\n",
        "bd_escuelas[\"f_seleccion\"]=bd_escuelas[\"f_seleccion\"].astype(int)\n",
        "bd_escuelas"
      ],
      "execution_count": 51,
      "outputs": [
        {
          "output_type": "execute_result",
          "data": {
            "text/html": [
              "<div>\n",
              "<style scoped>\n",
              "    .dataframe tbody tr th:only-of-type {\n",
              "        vertical-align: middle;\n",
              "    }\n",
              "\n",
              "    .dataframe tbody tr th {\n",
              "        vertical-align: top;\n",
              "    }\n",
              "\n",
              "    .dataframe thead th {\n",
              "        text-align: right;\n",
              "    }\n",
              "</style>\n",
              "<table border=\"1\" class=\"dataframe\">\n",
              "  <thead>\n",
              "    <tr style=\"text-align: right;\">\n",
              "      <th></th>\n",
              "      <th>escuela</th>\n",
              "      <th>LSAT</th>\n",
              "      <th>GPA</th>\n",
              "      <th>f_seleccion</th>\n",
              "    </tr>\n",
              "  </thead>\n",
              "  <tbody>\n",
              "    <tr>\n",
              "      <th>0</th>\n",
              "      <td>1</td>\n",
              "      <td>622</td>\n",
              "      <td>3.23</td>\n",
              "      <td>0</td>\n",
              "    </tr>\n",
              "    <tr>\n",
              "      <th>1</th>\n",
              "      <td>2</td>\n",
              "      <td>542</td>\n",
              "      <td>2.83</td>\n",
              "      <td>0</td>\n",
              "    </tr>\n",
              "    <tr>\n",
              "      <th>2</th>\n",
              "      <td>3</td>\n",
              "      <td>579</td>\n",
              "      <td>3.24</td>\n",
              "      <td>0</td>\n",
              "    </tr>\n",
              "    <tr>\n",
              "      <th>3</th>\n",
              "      <td>4</td>\n",
              "      <td>653</td>\n",
              "      <td>3.12</td>\n",
              "      <td>0</td>\n",
              "    </tr>\n",
              "    <tr>\n",
              "      <th>4</th>\n",
              "      <td>5</td>\n",
              "      <td>606</td>\n",
              "      <td>3.09</td>\n",
              "      <td>0</td>\n",
              "    </tr>\n",
              "    <tr>\n",
              "      <th>...</th>\n",
              "      <td>...</td>\n",
              "      <td>...</td>\n",
              "      <td>...</td>\n",
              "      <td>...</td>\n",
              "    </tr>\n",
              "    <tr>\n",
              "      <th>77</th>\n",
              "      <td>78</td>\n",
              "      <td>590</td>\n",
              "      <td>3.15</td>\n",
              "      <td>0</td>\n",
              "    </tr>\n",
              "    <tr>\n",
              "      <th>78</th>\n",
              "      <td>79</td>\n",
              "      <td>558</td>\n",
              "      <td>2.81</td>\n",
              "      <td>0</td>\n",
              "    </tr>\n",
              "    <tr>\n",
              "      <th>79</th>\n",
              "      <td>80</td>\n",
              "      <td>611</td>\n",
              "      <td>3.16</td>\n",
              "      <td>0</td>\n",
              "    </tr>\n",
              "    <tr>\n",
              "      <th>80</th>\n",
              "      <td>81</td>\n",
              "      <td>564</td>\n",
              "      <td>3.02</td>\n",
              "      <td>0</td>\n",
              "    </tr>\n",
              "    <tr>\n",
              "      <th>81</th>\n",
              "      <td>82</td>\n",
              "      <td>575</td>\n",
              "      <td>2.74</td>\n",
              "      <td>0</td>\n",
              "    </tr>\n",
              "  </tbody>\n",
              "</table>\n",
              "<p>82 rows × 4 columns</p>\n",
              "</div>"
            ],
            "text/plain": [
              "    escuela  LSAT   GPA  f_seleccion\n",
              "0         1   622  3.23            0\n",
              "1         2   542  2.83            0\n",
              "2         3   579  3.24            0\n",
              "3         4   653  3.12            0\n",
              "4         5   606  3.09            0\n",
              "..      ...   ...   ...          ...\n",
              "77       78   590  3.15            0\n",
              "78       79   558  2.81            0\n",
              "79       80   611  3.16            0\n",
              "80       81   564  3.02            0\n",
              "81       82   575  2.74            0\n",
              "\n",
              "[82 rows x 4 columns]"
            ]
          },
          "metadata": {},
          "execution_count": 51
        }
      ]
    },
    {
      "cell_type": "code",
      "metadata": {
        "colab": {
          "base_uri": "https://localhost:8080/",
          "height": 417
        },
        "id": "htfkZalbVMPy",
        "outputId": "9d9e786e-0305-4418-9579-df1b715c33cf"
      },
      "source": [
        "fig, ax =plt.subplots(figsize=(9,6))\n",
        "plot(bd_escuelas[bd_escuelas[\"f_seleccion\"]==0].LSAT,\n",
        "    bd_escuelas[bd_escuelas[\"f_seleccion\"]==0].GPA,\"o\",color=\"blue\" , markerfacecolor=\"white\")\n",
        "plot(bd_escuelas[bd_escuelas[\"f_seleccion\"]==1].LSAT,\n",
        "    bd_escuelas[bd_escuelas[\"f_seleccion\"]==1].GPA,\"o\",color=\"green\")\n",
        "\n",
        "xlabel(\"LSAT\",size=14)\n",
        "ylabel(\"GPA\",size=14)\n",
        "\n",
        "xticks(fontsize=16)\n",
        "yticks(fontsize=16)\n",
        "\n",
        "show()\n"
      ],
      "execution_count": 52,
      "outputs": [
        {
          "output_type": "display_data",
          "data": {
            "image/png": "[encoded data removed]",
            "text/plain": [
              "<Figure size 648x432 with 1 Axes>"
            ]
          },
          "metadata": {
            "needs_background": "light"
          }
        }
      ]
    },
    {
      "cell_type": "code",
      "metadata": {
        "colab": {
          "base_uri": "https://localhost:8080/",
          "height": 512
        },
        "id": "opWmXDvcVWMd",
        "outputId": "f6195d98-4996-450f-a472-4b8f9bc3f08a"
      },
      "source": [
        "bd_escuelasm = bd_escuelas[ bd_escuelas[\"f_seleccion\"]==1]\n",
        "bd_escuelasm"
      ],
      "execution_count": 53,
      "outputs": [
        {
          "output_type": "execute_result",
          "data": {
            "text/html": [
              "<div>\n",
              "<style scoped>\n",
              "    .dataframe tbody tr th:only-of-type {\n",
              "        vertical-align: middle;\n",
              "    }\n",
              "\n",
              "    .dataframe tbody tr th {\n",
              "        vertical-align: top;\n",
              "    }\n",
              "\n",
              "    .dataframe thead th {\n",
              "        text-align: right;\n",
              "    }\n",
              "</style>\n",
              "<table border=\"1\" class=\"dataframe\">\n",
              "  <thead>\n",
              "    <tr style=\"text-align: right;\">\n",
              "      <th></th>\n",
              "      <th>escuela</th>\n",
              "      <th>LSAT</th>\n",
              "      <th>GPA</th>\n",
              "      <th>f_seleccion</th>\n",
              "    </tr>\n",
              "  </thead>\n",
              "  <tbody>\n",
              "    <tr>\n",
              "      <th>10</th>\n",
              "      <td>11</td>\n",
              "      <td>558</td>\n",
              "      <td>3.11</td>\n",
              "      <td>1</td>\n",
              "    </tr>\n",
              "    <tr>\n",
              "      <th>12</th>\n",
              "      <td>13</td>\n",
              "      <td>635</td>\n",
              "      <td>3.30</td>\n",
              "      <td>1</td>\n",
              "    </tr>\n",
              "    <tr>\n",
              "      <th>17</th>\n",
              "      <td>18</td>\n",
              "      <td>646</td>\n",
              "      <td>3.47</td>\n",
              "      <td>1</td>\n",
              "    </tr>\n",
              "    <tr>\n",
              "      <th>20</th>\n",
              "      <td>21</td>\n",
              "      <td>546</td>\n",
              "      <td>2.99</td>\n",
              "      <td>1</td>\n",
              "    </tr>\n",
              "    <tr>\n",
              "      <th>22</th>\n",
              "      <td>23</td>\n",
              "      <td>628</td>\n",
              "      <td>3.03</td>\n",
              "      <td>1</td>\n",
              "    </tr>\n",
              "    <tr>\n",
              "      <th>23</th>\n",
              "      <td>24</td>\n",
              "      <td>575</td>\n",
              "      <td>3.01</td>\n",
              "      <td>1</td>\n",
              "    </tr>\n",
              "    <tr>\n",
              "      <th>26</th>\n",
              "      <td>27</td>\n",
              "      <td>608</td>\n",
              "      <td>3.04</td>\n",
              "      <td>1</td>\n",
              "    </tr>\n",
              "    <tr>\n",
              "      <th>28</th>\n",
              "      <td>29</td>\n",
              "      <td>587</td>\n",
              "      <td>3.16</td>\n",
              "      <td>1</td>\n",
              "    </tr>\n",
              "    <tr>\n",
              "      <th>33</th>\n",
              "      <td>34</td>\n",
              "      <td>591</td>\n",
              "      <td>3.02</td>\n",
              "      <td>1</td>\n",
              "    </tr>\n",
              "    <tr>\n",
              "      <th>37</th>\n",
              "      <td>38</td>\n",
              "      <td>606</td>\n",
              "      <td>3.20</td>\n",
              "      <td>1</td>\n",
              "    </tr>\n",
              "    <tr>\n",
              "      <th>40</th>\n",
              "      <td>41</td>\n",
              "      <td>595</td>\n",
              "      <td>3.11</td>\n",
              "      <td>1</td>\n",
              "    </tr>\n",
              "    <tr>\n",
              "      <th>43</th>\n",
              "      <td>44</td>\n",
              "      <td>644</td>\n",
              "      <td>3.38</td>\n",
              "      <td>1</td>\n",
              "    </tr>\n",
              "    <tr>\n",
              "      <th>45</th>\n",
              "      <td>46</td>\n",
              "      <td>645</td>\n",
              "      <td>3.27</td>\n",
              "      <td>1</td>\n",
              "    </tr>\n",
              "    <tr>\n",
              "      <th>54</th>\n",
              "      <td>55</td>\n",
              "      <td>560</td>\n",
              "      <td>2.93</td>\n",
              "      <td>1</td>\n",
              "    </tr>\n",
              "  </tbody>\n",
              "</table>\n",
              "</div>"
            ],
            "text/plain": [
              "    escuela  LSAT   GPA  f_seleccion\n",
              "10       11   558  3.11            1\n",
              "12       13   635  3.30            1\n",
              "17       18   646  3.47            1\n",
              "20       21   546  2.99            1\n",
              "22       23   628  3.03            1\n",
              "23       24   575  3.01            1\n",
              "26       27   608  3.04            1\n",
              "28       29   587  3.16            1\n",
              "33       34   591  3.02            1\n",
              "37       38   606  3.20            1\n",
              "40       41   595  3.11            1\n",
              "43       44   644  3.38            1\n",
              "45       46   645  3.27            1\n",
              "54       55   560  2.93            1"
            ]
          },
          "metadata": {},
          "execution_count": 53
        }
      ]
    },
    {
      "cell_type": "code",
      "metadata": {
        "colab": {
          "base_uri": "https://localhost:8080/"
        },
        "id": "2JStNJSnVYpG",
        "outputId": "f2915802-50ae-43d5-bfa4-9000af3490dc"
      },
      "source": [
        "\n",
        "#Quiero medir la presición de la correlación, de seleccionar 15 muestras al azar\n",
        "#Obtener el error estándar de la correlación y mostrar para que n\n",
        "#la presición es mejor con respecto a la correlación de la muestra total\n",
        "#Grafique el histograma pero sobre una muestra boots considerando la muestra completa\n",
        "corr,_=spearmanr(bd_escuelas[bd_escuelas[\"f_seleccion\"]==1].LSAT, bd_escuelas[bd_escuelas[\"f_seleccion\"]==1].GPA)\n",
        "print('Spearmans correlation:%3f' %corr)   "
      ],
      "execution_count": 54,
      "outputs": [
        {
          "output_type": "stream",
          "name": "stdout",
          "text": [
            "Spearmans correlation:0.778878\n"
          ]
        }
      ]
    },
    {
      "cell_type": "code",
      "metadata": {
        "colab": {
          "base_uri": "https://localhost:8080/"
        },
        "id": "5Hpsa6WiVZ0m",
        "outputId": "24a1195d-4ee7-458b-d886-5d7cd15207f8"
      },
      "source": [
        " \n",
        "corr,_=spearmanr(bd_escuelas.LSAT, bd_escuelas.GPA)\n",
        "print('Spearmans correlation:%3f' %corr)"
      ],
      "execution_count": 55,
      "outputs": [
        {
          "output_type": "stream",
          "name": "stdout",
          "text": [
            "Spearmans correlation:0.752662\n"
          ]
        }
      ]
    },
    {
      "cell_type": "code",
      "metadata": {
        "id": "efnlNI38VivO"
      },
      "source": [
        "simul=3200\n",
        "m=np.array([])\n",
        "lsat=np.array([558,635,646,546,628,575,608,587,591,606,595,644,645,560])\n",
        "for i in range(0,simul):\n",
        "    x_i=np.random.choice(lsat,len(lsat),replace=True)\n",
        "    m=np.append(m,x_i)\n",
        "m=np.reshape(m,(simul, len(lsat)))    \n",
        "\n",
        "prom_lsat=np.array([])\n",
        "for i in range(0,simul):\n",
        "    prom_i=np.mean(m[i])\n",
        "    prom_lsat=np.append(prom_lsat,prom_i)\n",
        "    \n",
        "mediana_lsat=np.array([])\n",
        "for i in range(0,simul):\n",
        "    mediana_i=np.median(m[i])\n",
        "    mediana_lsat=np.append(mediana_lsat,mediana_i)   \n",
        "    "
      ],
      "execution_count": 56,
      "outputs": []
    },
    {
      "cell_type": "code",
      "metadata": {
        "colab": {
          "base_uri": "https://localhost:8080/",
          "height": 394
        },
        "id": "L-LxglK6VkGE",
        "outputId": "c4fd5de6-7200-4f2e-c1e5-7a7137f85ee1"
      },
      "source": [
        "  \n",
        "fig, ax = plt.subplots(figsize=(9,6))\n",
        "hist(prom_lsat, bins=30, alpha=0.5, edgecolor=\"white\", label=\"Promedios con B\")\n",
        "axvline(x=np.mean(lsat), color = \"green\", linestyle = '--', linewidth=3, label=\"Promedios Sin B\")\n",
        "legend()\n",
        "show()"
      ],
      "execution_count": 57,
      "outputs": [
        {
          "output_type": "display_data",
          "data": {
            "image/png": "[encoded data removed]",
            "text/plain": [
              "<Figure size 648x432 with 1 Axes>"
            ]
          },
          "metadata": {
            "needs_background": "light"
          }
        }
      ]
    },
    {
      "cell_type": "code",
      "metadata": {
        "id": "jvlXI1L6WM0H"
      },
      "source": [
        "prom_lsat"
      ],
      "execution_count": null,
      "outputs": []
    },
    {
      "cell_type": "code",
      "metadata": {
        "colab": {
          "base_uri": "https://localhost:8080/"
        },
        "id": "09hjmbVqWMtv",
        "outputId": "69d0dfae-3eca-4c68-9c48-67cd3f3e9017"
      },
      "source": [
        "sqrt(sum((prom_lsat-np.mean(prom_lsat))**2)/(simul-1))"
      ],
      "execution_count": 58,
      "outputs": [
        {
          "output_type": "execute_result",
          "data": {
            "text/plain": [
              "8.851199762091616"
            ]
          },
          "metadata": {},
          "execution_count": 58
        }
      ]
    },
    {
      "cell_type": "code",
      "metadata": {
        "colab": {
          "base_uri": "https://localhost:8080/"
        },
        "id": "6T4efZK8WPXA",
        "outputId": "179d82ba-fead-4f95-d2d7-af4d64287439"
      },
      "source": [
        "err1=sqrt(sum((mediana_lsat-np.mean(mediana_lsat))**2)/(simul-1))\n",
        "err1\n"
      ],
      "execution_count": 59,
      "outputs": [
        {
          "output_type": "execute_result",
          "data": {
            "text/plain": [
              "13.590743540893346"
            ]
          },
          "metadata": {},
          "execution_count": 59
        }
      ]
    },
    {
      "cell_type": "code",
      "metadata": {
        "colab": {
          "base_uri": "https://localhost:8080/",
          "height": 394
        },
        "id": "EJd9sUPbWQ9H",
        "outputId": "a910b6ea-d272-4a9a-cdb9-c69369ed617d"
      },
      "source": [
        "fig,ax = plt.subplots(figsize=(9,6))\n",
        "hist(prom_lsat,bins=30,alpha=0.05,edgecolor=\"white\",label=\"PROMEDIOS CON B\")\n",
        "axvline(x=np.mean(lsat),color=\"green\",linestyle=\"--\",linewidth=3,label=\"PROMEDIOS SIN B\")\n",
        "legend()\n",
        "show()"
      ],
      "execution_count": 60,
      "outputs": [
        {
          "output_type": "display_data",
          "data": {
            "image/png": "[encoded data removed]",
            "text/plain": [
              "<Figure size 648x432 with 1 Axes>"
            ]
          },
          "metadata": {
            "needs_background": "light"
          }
        }
      ]
    },
    {
      "cell_type": "code",
      "metadata": {
        "id": "xdvQ185NWc_b"
      },
      "source": [
        "m2=np.array([])\n",
        "gpa=np.array([3.11,3.30,3.47,2.99,3.03,3.01,3.04,3.16,3.02,3.20,3.11,3.38,3.27,2.93])\n",
        "for i in range(0,simul):\n",
        "    x_i=np.random.choice(gpa,len(gpa),replace=True)\n",
        "    m2=np.append(m2,x_i)\n",
        "    \n",
        "m2=np.reshape(m2,(simul, len(gpa)))   \n",
        "\n",
        "prom_gpa=np.array([])\n",
        "for i in range(0,simul):\n",
        "    prom_i=np.mean(m2[i])\n",
        "    prom_gpa=np.append(prom_gpa,prom_i)\n",
        "    \n",
        "mediana_gpa=np.array([])\n",
        "for i in range(0,simul):\n",
        "    mediana_i=np.median(m2[i])\n",
        "    mediana_gpa=np.append(mediana_gpa,mediana_i)\n",
        "    \n"
      ],
      "execution_count": 62,
      "outputs": []
    },
    {
      "cell_type": "code",
      "metadata": {
        "colab": {
          "base_uri": "https://localhost:8080/",
          "height": 394
        },
        "id": "fTZ9mTzPWeKM",
        "outputId": "6d878081-87ae-4535-997d-e85394eb9269"
      },
      "source": [
        "fig,ax = plt.subplots(figsize=(9,6))\n",
        "hist(prom_gpa,bins=30,alpha=0.05,edgecolor=\"white\",label=\"PROMEDIOS CON B\")\n",
        "axvline(x=np.mean(gpa),color=\"green\",linestyle=\"--\",linewidth=3,label=\"PROMEDIOS SIN B\")\n",
        "legend()\n",
        "show()\n"
      ],
      "execution_count": 63,
      "outputs": [
        {
          "output_type": "display_data",
          "data": {
            "image/png": "[encoded data removed]",
            "text/plain": [
              "<Figure size 648x432 with 1 Axes>"
            ]
          },
          "metadata": {
            "needs_background": "light"
          }
        }
      ]
    },
    {
      "cell_type": "code",
      "metadata": {
        "colab": {
          "base_uri": "https://localhost:8080/"
        },
        "id": "44G71z3EXO2J",
        "outputId": "dd7b565d-fcf7-4602-a1eb-71edcdf6162a"
      },
      "source": [
        "sqrt(sum((prom_gpa-np.mean(prom_gpa))**2)/(simul-1))"
      ],
      "execution_count": 64,
      "outputs": [
        {
          "output_type": "execute_result",
          "data": {
            "text/plain": [
              "0.041663171635348835"
            ]
          },
          "metadata": {},
          "execution_count": 64
        }
      ]
    },
    {
      "cell_type": "code",
      "metadata": {
        "colab": {
          "base_uri": "https://localhost:8080/"
        },
        "id": "i9YyBNHyXP9f",
        "outputId": "f9ccf4c4-4fac-4d44-830d-2f7d9f094008"
      },
      "source": [
        "err2=sqrt(sum((mediana_gpa-np.mean(mediana_gpa))**2)/(simul-1))\n",
        "err2"
      ],
      "execution_count": 65,
      "outputs": [
        {
          "output_type": "execute_result",
          "data": {
            "text/plain": [
              "0.06117551187976424"
            ]
          },
          "metadata": {},
          "execution_count": 65
        }
      ]
    },
    {
      "cell_type": "code",
      "metadata": {
        "colab": {
          "base_uri": "https://localhost:8080/"
        },
        "id": "SZtrPd8QXRW4",
        "outputId": "d16697ca-64fa-4c15-cdae-61a00e714425"
      },
      "source": [
        "f_err=np.sqrt((err1**2)+(err2**2))\n",
        "f_err"
      ],
      "execution_count": 66,
      "outputs": [
        {
          "output_type": "execute_result",
          "data": {
            "text/plain": [
              "13.590881223731886"
            ]
          },
          "metadata": {},
          "execution_count": 66
        }
      ]
    },
    {
      "cell_type": "code",
      "metadata": {
        "id": "7GblrRpOXTkP"
      },
      "source": [
        "x_lsat=mean(prom_lsat)\n",
        "y_gpa=mean(prom_gpa)"
      ],
      "execution_count": 67,
      "outputs": []
    },
    {
      "cell_type": "code",
      "metadata": {
        "colab": {
          "base_uri": "https://localhost:8080/"
        },
        "id": "qXPdkSOuXXT3",
        "outputId": "fd47bfc5-d48a-445f-86a5-6e86156ecf63"
      },
      "source": [
        "x_lsat"
      ],
      "execution_count": 68,
      "outputs": [
        {
          "output_type": "execute_result",
          "data": {
            "text/plain": [
              "601.7722098214285"
            ]
          },
          "metadata": {},
          "execution_count": 68
        }
      ]
    },
    {
      "cell_type": "code",
      "metadata": {
        "colab": {
          "base_uri": "https://localhost:8080/"
        },
        "id": "ga8qaleuXY5R",
        "outputId": "6f81d047-f183-4a0b-ea31-52b4e781dc3e"
      },
      "source": [
        "y_gpa"
      ],
      "execution_count": 69,
      "outputs": [
        {
          "output_type": "execute_result",
          "data": {
            "text/plain": [
              "3.1436667410714283"
            ]
          },
          "metadata": {},
          "execution_count": 69
        }
      ]
    },
    {
      "cell_type": "code",
      "metadata": {
        "colab": {
          "base_uri": "https://localhost:8080/"
        },
        "id": "qE5SN1K1Xakn",
        "outputId": "7a5b6b13-be69-414d-ed04-eb617bc616ee"
      },
      "source": [
        "prom_lsat"
      ],
      "execution_count": 70,
      "outputs": [
        {
          "output_type": "execute_result",
          "data": {
            "text/plain": [
              "array([584.5       , 592.28571429, 614.35714286, ..., 601.28571429,\n",
              "       617.92857143, 599.78571429])"
            ]
          },
          "metadata": {},
          "execution_count": 70
        }
      ]
    },
    {
      "cell_type": "code",
      "metadata": {
        "colab": {
          "base_uri": "https://localhost:8080/"
        },
        "id": "3aLkgjK4XcNW",
        "outputId": "298a8eb9-2b06-48dd-d450-d50eb4fd8fad"
      },
      "source": [
        "dif=x_lsat-y_gpa\n",
        "dif"
      ],
      "execution_count": 71,
      "outputs": [
        {
          "output_type": "execute_result",
          "data": {
            "text/plain": [
              "598.6285430803571"
            ]
          },
          "metadata": {},
          "execution_count": 71
        }
      ]
    },
    {
      "cell_type": "code",
      "metadata": {
        "colab": {
          "base_uri": "https://localhost:8080/"
        },
        "id": "2uQnhVh2Xenr",
        "outputId": "2c3691d0-cf66-48f1-c8e2-8d778aa8bdcd"
      },
      "source": [
        "f_dif=prom_lsat-prom_gpa\n",
        "f_dif"
      ],
      "execution_count": 72,
      "outputs": [
        {
          "output_type": "execute_result",
          "data": {
            "text/plain": [
              "array([581.40214286, 589.08      , 611.21857143, ..., 598.19428571,\n",
              "       614.76857143, 596.68357143])"
            ]
          },
          "metadata": {},
          "execution_count": 72
        }
      ]
    },
    {
      "cell_type": "code",
      "metadata": {
        "colab": {
          "base_uri": "https://localhost:8080/"
        },
        "id": "XJ20UWMgXfpS",
        "outputId": "fc09fd9b-9864-44bd-ca04-d4780ac2dba8"
      },
      "source": [
        "#Error con el promedio\n",
        "err_mean1=sqrt(sum((prom_lsat-np.mean(prom_lsat))**2)/(simul-1))\n",
        "err_mean2=sqrt(sum((prom_gpa-np.mean(prom_gpa))**2)/(simul-1))\n",
        "f_err_mean=np.sqrt((err_mean1**2)+(err_mean2**2))\n",
        "f_err_mean"
      ],
      "execution_count": 73,
      "outputs": [
        {
          "output_type": "execute_result",
          "data": {
            "text/plain": [
              "8.851297817174688"
            ]
          },
          "metadata": {},
          "execution_count": 73
        }
      ]
    },
    {
      "cell_type": "code",
      "metadata": {
        "colab": {
          "base_uri": "https://localhost:8080/"
        },
        "id": "FghrBs4jXrMi",
        "outputId": "0c6530cd-875a-481d-c90a-ca68d37156ca"
      },
      "source": [
        "dif/f_err_mean"
      ],
      "execution_count": 74,
      "outputs": [
        {
          "output_type": "execute_result",
          "data": {
            "text/plain": [
              "67.63172536334766"
            ]
          },
          "metadata": {},
          "execution_count": 74
        }
      ]
    },
    {
      "cell_type": "code",
      "metadata": {
        "colab": {
          "base_uri": "https://localhost:8080/",
          "height": 394
        },
        "id": "fCVPVmgeXtJs",
        "outputId": "3efc7870-7cf3-41cc-cc08-ed88b29275dd"
      },
      "source": [
        "fig, ax = plt.subplots(figsize=(9,6))\n",
        "hist(f_dif[f_dif>=0],bins=30,color=\"green\", edgecolor=\"white\", label=\"Diferencias Positivas\", alpha= 0.4, )\n",
        "hist(f_dif[f_dif<0],bins=30,color=\"gray\", edgecolor=\"white\", label=\"Diferencias Negativas\", alpha= 0.5)\n",
        "axvline(x=np.mean(dif), color=\"blue\", linestyle=\"--\", linewidth = 3, label = \"Diferencias\")\n",
        "legend()\n",
        "show()"
      ],
      "execution_count": 75,
      "outputs": [
        {
          "output_type": "display_data",
          "data": {
            "image/png": "[encoded data removed]",
            "text/plain": [
              "<Figure size 648x432 with 1 Axes>"
            ]
          },
          "metadata": {
            "needs_background": "light"
          }
        }
      ]
    },
    {
      "cell_type": "markdown",
      "metadata": {
        "id": "4pjjvSEUbW4C"
      },
      "source": [
        "Podemos concluir que tenemos una mejor presición con una muestra de 14 observaciones que de 15, debido a que tenemos un cociente menor, lo que implica que el error es más pequeño."
      ]
    }
  ]
}